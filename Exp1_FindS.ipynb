{
 "cells": [
  {
   "cell_type": "markdown",
   "id": "711e0c37",
   "metadata": {},
   "source": [
    "### 1. Aim: Illustrate and demonstrate the working model and principle of Find-S algorithm.\n"
   ]
  },
  {
   "cell_type": "code",
   "execution_count": 1,
   "id": "7af00f95",
   "metadata": {},
   "outputs": [
    {
     "name": "stdout",
     "output_type": "stream",
     "text": [
      "Requirement already satisfied: pandas in d:\\software\\python3\\lib\\site-packages (2.2.2)\n",
      "Requirement already satisfied: numpy in d:\\software\\python3\\lib\\site-packages (1.26.4)\n",
      "Requirement already satisfied: pgmpy in d:\\software\\python3\\lib\\site-packages (0.1.25)\n",
      "Requirement already satisfied: scikit-learn in d:\\software\\python3\\lib\\site-packages (1.5.1)\n",
      "Requirement already satisfied: matplotlib in d:\\software\\python3\\lib\\site-packages (3.9.0)\n",
      "Requirement already satisfied: seaborn in d:\\software\\python3\\lib\\site-packages (0.13.2)\n",
      "Requirement already satisfied: python-dateutil>=2.8.2 in d:\\software\\python3\\lib\\site-packages (from pandas) (2.9.0.post0)\n",
      "Requirement already satisfied: pytz>=2020.1 in d:\\software\\python3\\lib\\site-packages (from pandas) (2024.1)\n",
      "Requirement already satisfied: tzdata>=2022.7 in d:\\software\\python3\\lib\\site-packages (from pandas) (2024.1)\n",
      "Requirement already satisfied: networkx in d:\\software\\python3\\lib\\site-packages (from pgmpy) (3.3)\n",
      "Requirement already satisfied: scipy in d:\\software\\python3\\lib\\site-packages (from pgmpy) (1.14.0)\n",
      "Requirement already satisfied: pyparsing in d:\\software\\python3\\lib\\site-packages (from pgmpy) (3.1.2)\n",
      "Requirement already satisfied: torch in d:\\software\\python3\\lib\\site-packages (from pgmpy) (2.4.0)\n",
      "Requirement already satisfied: statsmodels in d:\\software\\python3\\lib\\site-packages (from pgmpy) (0.14.2)\n",
      "Requirement already satisfied: tqdm in d:\\software\\python3\\lib\\site-packages (from pgmpy) (4.66.4)\n",
      "Requirement already satisfied: joblib in d:\\software\\python3\\lib\\site-packages (from pgmpy) (1.4.2)\n",
      "Requirement already satisfied: opt-einsum in d:\\software\\python3\\lib\\site-packages (from pgmpy) (3.3.0)\n",
      "Requirement already satisfied: threadpoolctl>=3.1.0 in d:\\software\\python3\\lib\\site-packages (from scikit-learn) (3.5.0)\n",
      "Requirement already satisfied: contourpy>=1.0.1 in d:\\software\\python3\\lib\\site-packages (from matplotlib) (1.2.1)\n",
      "Requirement already satisfied: cycler>=0.10 in d:\\software\\python3\\lib\\site-packages (from matplotlib) (0.12.1)\n",
      "Requirement already satisfied: fonttools>=4.22.0 in d:\\software\\python3\\lib\\site-packages (from matplotlib) (4.53.0)\n",
      "Requirement already satisfied: kiwisolver>=1.3.1 in d:\\software\\python3\\lib\\site-packages (from matplotlib) (1.4.5)\n",
      "Requirement already satisfied: packaging>=20.0 in d:\\software\\python3\\lib\\site-packages (from matplotlib) (24.0)\n",
      "Requirement already satisfied: pillow>=8 in d:\\software\\python3\\lib\\site-packages (from matplotlib) (10.3.0)\n",
      "Requirement already satisfied: six>=1.5 in d:\\software\\python3\\lib\\site-packages (from python-dateutil>=2.8.2->pandas) (1.16.0)\n",
      "Requirement already satisfied: patsy>=0.5.6 in d:\\software\\python3\\lib\\site-packages (from statsmodels->pgmpy) (0.5.6)\n",
      "Requirement already satisfied: filelock in d:\\software\\python3\\lib\\site-packages (from torch->pgmpy) (3.14.0)\n",
      "Requirement already satisfied: typing-extensions>=4.8.0 in d:\\software\\python3\\lib\\site-packages (from torch->pgmpy) (4.12.2)\n",
      "Requirement already satisfied: sympy in d:\\software\\python3\\lib\\site-packages (from torch->pgmpy) (1.13.1)\n",
      "Requirement already satisfied: jinja2 in d:\\software\\python3\\lib\\site-packages (from torch->pgmpy) (3.1.4)\n",
      "Requirement already satisfied: fsspec in d:\\software\\python3\\lib\\site-packages (from torch->pgmpy) (2024.6.0)\n",
      "Requirement already satisfied: setuptools in d:\\software\\python3\\lib\\site-packages (from torch->pgmpy) (72.1.0)\n",
      "Requirement already satisfied: colorama in d:\\software\\python3\\lib\\site-packages (from tqdm->pgmpy) (0.4.6)\n",
      "Requirement already satisfied: MarkupSafe>=2.0 in d:\\software\\python3\\lib\\site-packages (from jinja2->torch->pgmpy) (2.1.5)\n",
      "Requirement already satisfied: mpmath<1.4,>=1.1.0 in d:\\software\\python3\\lib\\site-packages (from sympy->torch->pgmpy) (1.3.0)\n"
     ]
    },
    {
     "name": "stderr",
     "output_type": "stream",
     "text": [
      "\n",
      "[notice] A new release of pip is available: 24.0 -> 24.2\n",
      "[notice] To update, run: python.exe -m pip install --upgrade pip\n"
     ]
    }
   ],
   "source": [
    "!pip install pandas numpy pgmpy scikit-learn matplotlib seaborn"
   ]
  },
  {
   "cell_type": "code",
   "execution_count": 2,
   "id": "7360a624",
   "metadata": {
    "scrolled": true
   },
   "outputs": [
    {
     "data": {
      "text/html": [
       "<div>\n",
       "<style scoped>\n",
       "    .dataframe tbody tr th:only-of-type {\n",
       "        vertical-align: middle;\n",
       "    }\n",
       "\n",
       "    .dataframe tbody tr th {\n",
       "        vertical-align: top;\n",
       "    }\n",
       "\n",
       "    .dataframe thead th {\n",
       "        text-align: right;\n",
       "    }\n",
       "</style>\n",
       "<table border=\"1\" class=\"dataframe\">\n",
       "  <thead>\n",
       "    <tr style=\"text-align: right;\">\n",
       "      <th></th>\n",
       "      <th>sky</th>\n",
       "      <th>air temp</th>\n",
       "      <th>humidity</th>\n",
       "      <th>wind</th>\n",
       "      <th>water</th>\n",
       "      <th>forecast</th>\n",
       "      <th>enjoy sport</th>\n",
       "    </tr>\n",
       "  </thead>\n",
       "  <tbody>\n",
       "    <tr>\n",
       "      <th>0</th>\n",
       "      <td>sunny</td>\n",
       "      <td>warm</td>\n",
       "      <td>normal</td>\n",
       "      <td>strong</td>\n",
       "      <td>warm</td>\n",
       "      <td>same</td>\n",
       "      <td>yes</td>\n",
       "    </tr>\n",
       "    <tr>\n",
       "      <th>1</th>\n",
       "      <td>sunny</td>\n",
       "      <td>warm</td>\n",
       "      <td>high</td>\n",
       "      <td>strong</td>\n",
       "      <td>warm</td>\n",
       "      <td>same</td>\n",
       "      <td>yes</td>\n",
       "    </tr>\n",
       "    <tr>\n",
       "      <th>2</th>\n",
       "      <td>rainy</td>\n",
       "      <td>cold</td>\n",
       "      <td>high</td>\n",
       "      <td>strong</td>\n",
       "      <td>warm</td>\n",
       "      <td>change</td>\n",
       "      <td>no</td>\n",
       "    </tr>\n",
       "    <tr>\n",
       "      <th>3</th>\n",
       "      <td>sunny</td>\n",
       "      <td>warm</td>\n",
       "      <td>high</td>\n",
       "      <td>strong</td>\n",
       "      <td>cool</td>\n",
       "      <td>change</td>\n",
       "      <td>yes</td>\n",
       "    </tr>\n",
       "  </tbody>\n",
       "</table>\n",
       "</div>"
      ],
      "text/plain": [
       "     sky air temp humidity    wind water forecast enjoy sport\n",
       "0  sunny     warm   normal  strong  warm     same         yes\n",
       "1  sunny     warm     high  strong  warm     same         yes\n",
       "2  rainy     cold     high  strong  warm   change          no\n",
       "3  sunny     warm     high  strong  cool   change         yes"
      ]
     },
     "execution_count": 2,
     "metadata": {},
     "output_type": "execute_result"
    }
   ],
   "source": [
    "import pandas as pd\n",
    "import numpy as np\n",
    "data = pd.read_csv('data.csv')\n",
    "data"
   ]
  },
  {
   "cell_type": "code",
   "execution_count": 3,
   "id": "180faed7",
   "metadata": {},
   "outputs": [],
   "source": [
    "instance = np.array(data)"
   ]
  },
  {
   "cell_type": "code",
   "execution_count": 6,
   "id": "39d47ab4",
   "metadata": {},
   "outputs": [
    {
     "data": {
      "text/plain": [
       "array([['sunny', 'warm', 'normal', 'strong', 'warm', 'same', 'yes'],\n",
       "       ['sunny', 'warm', 'high', 'strong', 'warm', 'same', 'yes'],\n",
       "       ['rainy', 'cold', 'high', 'strong', 'warm', 'change', 'no'],\n",
       "       ['sunny', 'warm', 'high', 'strong', 'cool', 'change', 'yes']],\n",
       "      dtype=object)"
      ]
     },
     "execution_count": 6,
     "metadata": {},
     "output_type": "execute_result"
    }
   ],
   "source": [
    "instance"
   ]
  },
  {
   "cell_type": "code",
   "execution_count": 7,
   "id": "9d5c7e01",
   "metadata": {},
   "outputs": [
    {
     "name": "stdout",
     "output_type": "stream",
     "text": [
      "\n",
      "The initial value of hypothesis: \n",
      "['0', '0', '0', '0', '0', '0']\n"
     ]
    }
   ],
   "source": [
    "num_attributes=6\n",
    "print(\"\\nThe initial value of hypothesis: \")\n",
    "hypothesis = ['0'] * num_attributes\n",
    "print(hypothesis)"
   ]
  },
  {
   "cell_type": "code",
   "execution_count": 8,
   "id": "77b542b3",
   "metadata": {},
   "outputs": [
    {
     "data": {
      "text/plain": [
       "['sunny', 'warm', 'normal', 'strong', 'warm', 'same']"
      ]
     },
     "execution_count": 8,
     "metadata": {},
     "output_type": "execute_result"
    }
   ],
   "source": [
    "for j in range(0,num_attributes):\n",
    "    hypothesis[j] = instance[0][j] \n",
    "# hypothesis"
   ]
  },
  {
   "cell_type": "code",
   "execution_count": 10,
   "id": "55ea0b0b",
   "metadata": {},
   "outputs": [
    {
     "name": "stdout",
     "output_type": "stream",
     "text": [
      "Find S: Finding a Maximally Specific Hypothesis\n",
      "\n",
      "\n",
      "For Training instance No.1 the hypothesis is  ['sunny', 'warm', '?', 'strong', '?', '?']\n",
      "\n",
      "For Training instance No.2 the hypothesis is  ['sunny', 'warm', '?', 'strong', '?', '?']\n",
      "\n",
      "For Training instance No.3 the hypothesis is  ['sunny', 'warm', '?', 'strong', '?', '?']\n",
      "\n",
      "For Training instance No.4 the hypothesis is  ['sunny', 'warm', '?', 'strong', '?', '?']\n",
      "\n",
      "\n",
      "The Maximally Specific Hypothesis for a given Training Examples :\n",
      "\n",
      "['sunny', 'warm', '?', 'strong', '?', '?']\n"
     ]
    }
   ],
   "source": [
    "print(\"Find S: Finding a Maximally Specific Hypothesis\\n\") \n",
    "\n",
    "for i in range(len(instance)):\n",
    "    if instance[i][num_attributes]=='yes':\n",
    "        for j in range(num_attributes):\n",
    "            if instance[i][j]!=hypothesis[j]:\n",
    "                hypothesis[j]='?'\n",
    "            else :\n",
    "                hypothesis[j]= instance[i][j] \n",
    "    print(\"\\nFor Training instance No.{} the hypothesis is \".format(i+1), hypothesis)\n",
    "\n",
    "print(\"\\n\\nThe Maximally Specific Hypothesis for a given Training Examples :\\n\")\n",
    "print(hypothesis)"
   ]
  },
  {
   "cell_type": "code",
   "execution_count": 5,
   "id": "12309b15",
   "metadata": {},
   "outputs": [
    {
     "data": {
      "text/plain": [
       "['1', '1', '1', '1', '1']"
      ]
     },
     "execution_count": 5,
     "metadata": {},
     "output_type": "execute_result"
    }
   ],
   "source": [
    "h=np.array(data)\n",
    "h=['1'];h*=5\n",
    "h"
   ]
  },
  {
   "cell_type": "code",
   "execution_count": null,
   "id": "2f8ea21a",
   "metadata": {},
   "outputs": [],
   "source": []
  }
 ],
 "metadata": {
  "kernelspec": {
   "display_name": "Python 3 (ipykernel)",
   "language": "python",
   "name": "python3"
  },
  "language_info": {
   "codemirror_mode": {
    "name": "ipython",
    "version": 3
   },
   "file_extension": ".py",
   "mimetype": "text/x-python",
   "name": "python",
   "nbconvert_exporter": "python",
   "pygments_lexer": "ipython3",
   "version": "3.12.3"
  }
 },
 "nbformat": 4,
 "nbformat_minor": 5
}
